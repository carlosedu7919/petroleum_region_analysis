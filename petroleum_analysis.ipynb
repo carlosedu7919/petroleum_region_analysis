{
 "cells": [
  {
   "cell_type": "markdown",
   "id": "26c91e10",
   "metadata": {},
   "source": [
    "# 1.Introdução\n",
    "\n",
    "A exploração de petróleo é uma atividade estratégica e de alto investimento, exigindo decisões precisas para maximizar o retorno financeiro e minimizar riscos. Neste contexto, a empresa **OilyGiant** busca identificar as regiões mais promissoras para o desenvolvimento de novos poços de petróleo, utilizando dados geológicos coletados em três áreas distintas.\n",
    "\n",
    "O objetivo deste projeto é aplicar técnicas de Ciência de Dados para analisar os dados disponíveis, construir modelos preditivos e, por meio de simulações estatísticas, avaliar o potencial de lucro e o risco associado a cada região. A abordagem adotada envolve:\n",
    "\n",
    "- **Análise exploratória** dos dados de cada região;\n",
    "- **Treinamento de modelos de regressão linear** para prever o volume de reservas em novos poços;\n",
    "- **Seleção dos poços mais promissores** com base nas previsões do modelo;\n",
    "- **Cálculo do lucro potencial** considerando as restrições de orçamento e receita;\n",
    "- **Avaliação do risco de prejuízo** utilizando a técnica de bootstrapping.\n",
    "\n",
    "Ao final, será feita uma comparação entre as regiões, levando em conta tanto o lucro médio quanto o risco de perdas, para recomendar a melhor estratégia de investimento para a empresa. O projeto demonstra, assim, como a Ciência de Dados pode apoiar decisões críticas em setores de grande impacto econômico.\n",
    "\n",
    "---\n",
    "\n",
    "### Contexto do Desafio e Critérios de Seleção\n",
    "\n",
    "Ao explorar cada região, um estudo é realizado em **500 pontos** geológicos. Após a análise, os **200 melhores pontos** (aqueles com maior volume previsto de reservas) são selecionados para o cálculo do lucro potencial.\n",
    "\n",
    "- **Orçamento:** O desenvolvimento dos 200 poços selecionados deve respeitar um limite de **100 milhões de dólares**.\n",
    "- **Receita:** Cada barril de petróleo bruto gera uma receita de **4,5 dólares**.\n",
    "- **Unidade de Produto:** Como o volume de reservas está em milhares de barris, a receita de uma unidade de produto é **4.500 dólares**.\n",
    "- **Risco:** Após a avaliação dos riscos (simulações estatísticas), apenas as regiões com **risco de perdas inferior a 2,5%** são consideradas elegíveis.\n",
    "- **Seleção final:** Entre as regiões que atendem ao critério de risco, deve-se escolher aquela com o **lucro médio mais alto**.\n",
    "- **Observação:** Todos os dados utilizados são sintéticos e não contemplam detalhes contratuais ou características específicas dos poços.\n",
    "\n",
    "Esse conjunto de regras garante que a decisão de investimento seja baseada em critérios quantitativos claros, equilibrando retorno esperado e risco financeiro.\n"
   ]
  },
  {
   "cell_type": "markdown",
   "id": "2284587f",
   "metadata": {},
   "source": [
    "## 2.Análise Exploratória de Dados"
   ]
  },
  {
   "cell_type": "code",
   "execution_count": 1,
   "id": "dfef0e03",
   "metadata": {},
   "outputs": [],
   "source": [
    "import pandas as pd\n",
    "import numpy as np \n",
    "import matplotlib.pyplot as plt\n",
    "import seaborn as sns \n",
    "\n",
    "from sklearn.model_selection import train_test_split\n",
    "from sklearn.linear_model import LinearRegression\n",
    "from sklearn.metrics import mean_squared_error\n",
    "from sklearn.preprocessing import StandardScaler"
   ]
  },
  {
   "cell_type": "code",
   "execution_count": 2,
   "id": "28d91d8f",
   "metadata": {},
   "outputs": [],
   "source": [
    "plt.style.use('seaborn-v0_8')\n",
    "sns.set_palette('deep')\n",
    "%matplotlib inline"
   ]
  },
  {
   "cell_type": "code",
   "execution_count": 3,
   "id": "4ee9788d",
   "metadata": {},
   "outputs": [],
   "source": [
    "geodata0 = pd.read_csv ('data/geo_data_0.csv')\n",
    "geodata1 = pd.read_csv ('data/geo_data_1.csv')\n",
    "geodata2 = pd.read_csv ('data/geo_data_2.csv')"
   ]
  },
  {
   "cell_type": "code",
   "execution_count": 4,
   "id": "21c475aa",
   "metadata": {},
   "outputs": [
    {
     "name": "stdout",
     "output_type": "stream",
     "text": [
      "          id        f0        f1        f2     product\n",
      "0      txEyH  0.705745 -0.497823  1.221170  105.280062\n",
      "1      2acmU  1.334711 -0.340164  4.365080   73.037750\n",
      "2      409Wp  1.022732  0.151990  1.419926   85.265647\n",
      "3      iJLyR -0.032172  0.139033  2.978566  168.620776\n",
      "4      Xdl7t  1.988431  0.155413  4.751769  154.036647\n",
      "...      ...       ...       ...       ...         ...\n",
      "99995  DLsed  0.971957  0.370953  6.075346  110.744026\n",
      "99996  QKivN  1.392429 -0.382606  1.273912  122.346843\n",
      "99997  3rnvd  1.029585  0.018787 -1.348308   64.375443\n",
      "99998  7kl59  0.998163 -0.528582  1.583869   74.040764\n",
      "99999  1CWhH  1.764754 -0.266417  5.722849  149.633246\n",
      "\n",
      "[100000 rows x 5 columns]\n",
      "<class 'pandas.core.frame.DataFrame'>\n",
      "RangeIndex: 100000 entries, 0 to 99999\n",
      "Data columns (total 5 columns):\n",
      " #   Column   Non-Null Count   Dtype  \n",
      "---  ------   --------------   -----  \n",
      " 0   id       100000 non-null  object \n",
      " 1   f0       100000 non-null  float64\n",
      " 2   f1       100000 non-null  float64\n",
      " 3   f2       100000 non-null  float64\n",
      " 4   product  100000 non-null  float64\n",
      "dtypes: float64(4), object(1)\n",
      "memory usage: 3.8+ MB\n"
     ]
    }
   ],
   "source": [
    "print(geodata0)\n",
    "geodata0.info()"
   ]
  },
  {
   "cell_type": "code",
   "execution_count": 5,
   "id": "0ffc1181",
   "metadata": {},
   "outputs": [
    {
     "name": "stdout",
     "output_type": "stream",
     "text": [
      "          id         f0         f1        f2     product\n",
      "0      kBEdx -15.001348  -8.276000 -0.005876    3.179103\n",
      "1      62mP7  14.272088  -3.475083  0.999183   26.953261\n",
      "2      vyE1P   6.263187  -5.948386  5.001160  134.766305\n",
      "3      KcrkZ -13.081196 -11.506057  4.999415  137.945408\n",
      "4      AHL4O  12.702195  -8.147433  5.004363  134.766305\n",
      "...      ...        ...        ...       ...         ...\n",
      "99995  QywKC   9.535637  -6.878139  1.998296   53.906522\n",
      "99996  ptvty -10.160631 -12.558096  5.005581  137.945408\n",
      "99997  09gWa  -7.378891  -3.084104  4.998651  137.945408\n",
      "99998  rqwUm   0.665714  -6.152593  1.000146   30.132364\n",
      "99999  relB0  -3.426139  -7.794274 -0.003299    3.179103\n",
      "\n",
      "[100000 rows x 5 columns]\n",
      "<class 'pandas.core.frame.DataFrame'>\n",
      "RangeIndex: 100000 entries, 0 to 99999\n",
      "Data columns (total 5 columns):\n",
      " #   Column   Non-Null Count   Dtype  \n",
      "---  ------   --------------   -----  \n",
      " 0   id       100000 non-null  object \n",
      " 1   f0       100000 non-null  float64\n",
      " 2   f1       100000 non-null  float64\n",
      " 3   f2       100000 non-null  float64\n",
      " 4   product  100000 non-null  float64\n",
      "dtypes: float64(4), object(1)\n",
      "memory usage: 3.8+ MB\n"
     ]
    }
   ],
   "source": [
    "print(geodata1)\n",
    "geodata1.info()"
   ]
  },
  {
   "cell_type": "code",
   "execution_count": 6,
   "id": "8ecd3acd",
   "metadata": {},
   "outputs": [
    {
     "name": "stdout",
     "output_type": "stream",
     "text": [
      "          id        f0        f1        f2     product\n",
      "0      fwXo0 -1.146987  0.963328 -0.828965   27.758673\n",
      "1      WJtFt  0.262778  0.269839 -2.530187   56.069697\n",
      "2      ovLUW  0.194587  0.289035 -5.586433   62.871910\n",
      "3      q6cA6  2.236060 -0.553760  0.930038  114.572842\n",
      "4      WPMUX -0.515993  1.716266  5.899011  149.600746\n",
      "...      ...       ...       ...       ...         ...\n",
      "99995  4GxBu -1.777037  1.125220  6.263374  172.327046\n",
      "99996  YKFjq -1.261523 -0.894828  2.524545  138.748846\n",
      "99997  tKPY3 -1.199934 -2.957637  5.219411  157.080080\n",
      "99998  nmxp2 -2.419896  2.417221 -5.548444   51.795253\n",
      "99999  V9kWn -2.551421 -2.025625  6.090891  102.775767\n",
      "\n",
      "[100000 rows x 5 columns]\n",
      "<class 'pandas.core.frame.DataFrame'>\n",
      "RangeIndex: 100000 entries, 0 to 99999\n",
      "Data columns (total 5 columns):\n",
      " #   Column   Non-Null Count   Dtype  \n",
      "---  ------   --------------   -----  \n",
      " 0   id       100000 non-null  object \n",
      " 1   f0       100000 non-null  float64\n",
      " 2   f1       100000 non-null  float64\n",
      " 3   f2       100000 non-null  float64\n",
      " 4   product  100000 non-null  float64\n",
      "dtypes: float64(4), object(1)\n",
      "memory usage: 3.8+ MB\n"
     ]
    }
   ],
   "source": [
    "print(geodata2)\n",
    "geodata2.info()"
   ]
  },
  {
   "cell_type": "code",
   "execution_count": 7,
   "id": "c052b73f",
   "metadata": {},
   "outputs": [
    {
     "data": {
      "text/plain": [
       "np.int64(0)"
      ]
     },
     "execution_count": 7,
     "metadata": {},
     "output_type": "execute_result"
    }
   ],
   "source": [
    "geodata0.duplicated().sum()\n"
   ]
  },
  {
   "cell_type": "code",
   "execution_count": 8,
   "id": "1d94dad7",
   "metadata": {},
   "outputs": [
    {
     "data": {
      "text/plain": [
       "np.int64(0)"
      ]
     },
     "execution_count": 8,
     "metadata": {},
     "output_type": "execute_result"
    }
   ],
   "source": [
    "geodata1.duplicated().sum()"
   ]
  },
  {
   "cell_type": "code",
   "execution_count": 9,
   "id": "7ff09019",
   "metadata": {},
   "outputs": [
    {
     "data": {
      "text/plain": [
       "np.int64(0)"
      ]
     },
     "execution_count": 9,
     "metadata": {},
     "output_type": "execute_result"
    }
   ],
   "source": [
    "geodata2.duplicated().sum()"
   ]
  },
  {
   "cell_type": "code",
   "execution_count": 10,
   "id": "c4c33dc9",
   "metadata": {},
   "outputs": [
    {
     "data": {
      "text/html": [
       "<div>\n",
       "<style scoped>\n",
       "    .dataframe tbody tr th:only-of-type {\n",
       "        vertical-align: middle;\n",
       "    }\n",
       "\n",
       "    .dataframe tbody tr th {\n",
       "        vertical-align: top;\n",
       "    }\n",
       "\n",
       "    .dataframe thead th {\n",
       "        text-align: right;\n",
       "    }\n",
       "</style>\n",
       "<table border=\"1\" class=\"dataframe\">\n",
       "  <thead>\n",
       "    <tr style=\"text-align: right;\">\n",
       "      <th></th>\n",
       "      <th>f0</th>\n",
       "      <th>f1</th>\n",
       "      <th>f2</th>\n",
       "      <th>product</th>\n",
       "    </tr>\n",
       "  </thead>\n",
       "  <tbody>\n",
       "    <tr>\n",
       "      <th>count</th>\n",
       "      <td>100000.000000</td>\n",
       "      <td>100000.000000</td>\n",
       "      <td>100000.000000</td>\n",
       "      <td>100000.000000</td>\n",
       "    </tr>\n",
       "    <tr>\n",
       "      <th>mean</th>\n",
       "      <td>0.500419</td>\n",
       "      <td>0.250143</td>\n",
       "      <td>2.502647</td>\n",
       "      <td>92.500000</td>\n",
       "    </tr>\n",
       "    <tr>\n",
       "      <th>std</th>\n",
       "      <td>0.871832</td>\n",
       "      <td>0.504433</td>\n",
       "      <td>3.248248</td>\n",
       "      <td>44.288691</td>\n",
       "    </tr>\n",
       "    <tr>\n",
       "      <th>min</th>\n",
       "      <td>-1.408605</td>\n",
       "      <td>-0.848218</td>\n",
       "      <td>-12.088328</td>\n",
       "      <td>0.000000</td>\n",
       "    </tr>\n",
       "    <tr>\n",
       "      <th>25%</th>\n",
       "      <td>-0.072580</td>\n",
       "      <td>-0.200881</td>\n",
       "      <td>0.287748</td>\n",
       "      <td>56.497507</td>\n",
       "    </tr>\n",
       "    <tr>\n",
       "      <th>50%</th>\n",
       "      <td>0.502360</td>\n",
       "      <td>0.250252</td>\n",
       "      <td>2.515969</td>\n",
       "      <td>91.849972</td>\n",
       "    </tr>\n",
       "    <tr>\n",
       "      <th>75%</th>\n",
       "      <td>1.073581</td>\n",
       "      <td>0.700646</td>\n",
       "      <td>4.715088</td>\n",
       "      <td>128.564089</td>\n",
       "    </tr>\n",
       "    <tr>\n",
       "      <th>max</th>\n",
       "      <td>2.362331</td>\n",
       "      <td>1.343769</td>\n",
       "      <td>16.003790</td>\n",
       "      <td>185.364347</td>\n",
       "    </tr>\n",
       "  </tbody>\n",
       "</table>\n",
       "</div>"
      ],
      "text/plain": [
       "                  f0             f1             f2        product\n",
       "count  100000.000000  100000.000000  100000.000000  100000.000000\n",
       "mean        0.500419       0.250143       2.502647      92.500000\n",
       "std         0.871832       0.504433       3.248248      44.288691\n",
       "min        -1.408605      -0.848218     -12.088328       0.000000\n",
       "25%        -0.072580      -0.200881       0.287748      56.497507\n",
       "50%         0.502360       0.250252       2.515969      91.849972\n",
       "75%         1.073581       0.700646       4.715088     128.564089\n",
       "max         2.362331       1.343769      16.003790     185.364347"
      ]
     },
     "execution_count": 10,
     "metadata": {},
     "output_type": "execute_result"
    }
   ],
   "source": [
    "geodata0.describe()"
   ]
  },
  {
   "cell_type": "code",
   "execution_count": 11,
   "id": "5774809f",
   "metadata": {},
   "outputs": [
    {
     "data": {
      "text/html": [
       "<div>\n",
       "<style scoped>\n",
       "    .dataframe tbody tr th:only-of-type {\n",
       "        vertical-align: middle;\n",
       "    }\n",
       "\n",
       "    .dataframe tbody tr th {\n",
       "        vertical-align: top;\n",
       "    }\n",
       "\n",
       "    .dataframe thead th {\n",
       "        text-align: right;\n",
       "    }\n",
       "</style>\n",
       "<table border=\"1\" class=\"dataframe\">\n",
       "  <thead>\n",
       "    <tr style=\"text-align: right;\">\n",
       "      <th></th>\n",
       "      <th>f0</th>\n",
       "      <th>f1</th>\n",
       "      <th>f2</th>\n",
       "      <th>product</th>\n",
       "    </tr>\n",
       "  </thead>\n",
       "  <tbody>\n",
       "    <tr>\n",
       "      <th>count</th>\n",
       "      <td>100000.000000</td>\n",
       "      <td>100000.000000</td>\n",
       "      <td>100000.000000</td>\n",
       "      <td>100000.000000</td>\n",
       "    </tr>\n",
       "    <tr>\n",
       "      <th>mean</th>\n",
       "      <td>1.141296</td>\n",
       "      <td>-4.796579</td>\n",
       "      <td>2.494541</td>\n",
       "      <td>68.825000</td>\n",
       "    </tr>\n",
       "    <tr>\n",
       "      <th>std</th>\n",
       "      <td>8.965932</td>\n",
       "      <td>5.119872</td>\n",
       "      <td>1.703572</td>\n",
       "      <td>45.944423</td>\n",
       "    </tr>\n",
       "    <tr>\n",
       "      <th>min</th>\n",
       "      <td>-31.609576</td>\n",
       "      <td>-26.358598</td>\n",
       "      <td>-0.018144</td>\n",
       "      <td>0.000000</td>\n",
       "    </tr>\n",
       "    <tr>\n",
       "      <th>25%</th>\n",
       "      <td>-6.298551</td>\n",
       "      <td>-8.267985</td>\n",
       "      <td>1.000021</td>\n",
       "      <td>26.953261</td>\n",
       "    </tr>\n",
       "    <tr>\n",
       "      <th>50%</th>\n",
       "      <td>1.153055</td>\n",
       "      <td>-4.813172</td>\n",
       "      <td>2.011479</td>\n",
       "      <td>57.085625</td>\n",
       "    </tr>\n",
       "    <tr>\n",
       "      <th>75%</th>\n",
       "      <td>8.621015</td>\n",
       "      <td>-1.332816</td>\n",
       "      <td>3.999904</td>\n",
       "      <td>107.813044</td>\n",
       "    </tr>\n",
       "    <tr>\n",
       "      <th>max</th>\n",
       "      <td>29.421755</td>\n",
       "      <td>18.734063</td>\n",
       "      <td>5.019721</td>\n",
       "      <td>137.945408</td>\n",
       "    </tr>\n",
       "  </tbody>\n",
       "</table>\n",
       "</div>"
      ],
      "text/plain": [
       "                  f0             f1             f2        product\n",
       "count  100000.000000  100000.000000  100000.000000  100000.000000\n",
       "mean        1.141296      -4.796579       2.494541      68.825000\n",
       "std         8.965932       5.119872       1.703572      45.944423\n",
       "min       -31.609576     -26.358598      -0.018144       0.000000\n",
       "25%        -6.298551      -8.267985       1.000021      26.953261\n",
       "50%         1.153055      -4.813172       2.011479      57.085625\n",
       "75%         8.621015      -1.332816       3.999904     107.813044\n",
       "max        29.421755      18.734063       5.019721     137.945408"
      ]
     },
     "execution_count": 11,
     "metadata": {},
     "output_type": "execute_result"
    }
   ],
   "source": [
    "geodata1.describe()\n"
   ]
  },
  {
   "cell_type": "code",
   "execution_count": 12,
   "id": "185e8d9d",
   "metadata": {},
   "outputs": [
    {
     "data": {
      "text/html": [
       "<div>\n",
       "<style scoped>\n",
       "    .dataframe tbody tr th:only-of-type {\n",
       "        vertical-align: middle;\n",
       "    }\n",
       "\n",
       "    .dataframe tbody tr th {\n",
       "        vertical-align: top;\n",
       "    }\n",
       "\n",
       "    .dataframe thead th {\n",
       "        text-align: right;\n",
       "    }\n",
       "</style>\n",
       "<table border=\"1\" class=\"dataframe\">\n",
       "  <thead>\n",
       "    <tr style=\"text-align: right;\">\n",
       "      <th></th>\n",
       "      <th>f0</th>\n",
       "      <th>f1</th>\n",
       "      <th>f2</th>\n",
       "      <th>product</th>\n",
       "    </tr>\n",
       "  </thead>\n",
       "  <tbody>\n",
       "    <tr>\n",
       "      <th>count</th>\n",
       "      <td>100000.000000</td>\n",
       "      <td>100000.000000</td>\n",
       "      <td>100000.000000</td>\n",
       "      <td>100000.000000</td>\n",
       "    </tr>\n",
       "    <tr>\n",
       "      <th>mean</th>\n",
       "      <td>0.002023</td>\n",
       "      <td>-0.002081</td>\n",
       "      <td>2.495128</td>\n",
       "      <td>95.000000</td>\n",
       "    </tr>\n",
       "    <tr>\n",
       "      <th>std</th>\n",
       "      <td>1.732045</td>\n",
       "      <td>1.730417</td>\n",
       "      <td>3.473445</td>\n",
       "      <td>44.749921</td>\n",
       "    </tr>\n",
       "    <tr>\n",
       "      <th>min</th>\n",
       "      <td>-8.760004</td>\n",
       "      <td>-7.084020</td>\n",
       "      <td>-11.970335</td>\n",
       "      <td>0.000000</td>\n",
       "    </tr>\n",
       "    <tr>\n",
       "      <th>25%</th>\n",
       "      <td>-1.162288</td>\n",
       "      <td>-1.174820</td>\n",
       "      <td>0.130359</td>\n",
       "      <td>59.450441</td>\n",
       "    </tr>\n",
       "    <tr>\n",
       "      <th>50%</th>\n",
       "      <td>0.009424</td>\n",
       "      <td>-0.009482</td>\n",
       "      <td>2.484236</td>\n",
       "      <td>94.925613</td>\n",
       "    </tr>\n",
       "    <tr>\n",
       "      <th>75%</th>\n",
       "      <td>1.158535</td>\n",
       "      <td>1.163678</td>\n",
       "      <td>4.858794</td>\n",
       "      <td>130.595027</td>\n",
       "    </tr>\n",
       "    <tr>\n",
       "      <th>max</th>\n",
       "      <td>7.238262</td>\n",
       "      <td>7.844801</td>\n",
       "      <td>16.739402</td>\n",
       "      <td>190.029838</td>\n",
       "    </tr>\n",
       "  </tbody>\n",
       "</table>\n",
       "</div>"
      ],
      "text/plain": [
       "                  f0             f1             f2        product\n",
       "count  100000.000000  100000.000000  100000.000000  100000.000000\n",
       "mean        0.002023      -0.002081       2.495128      95.000000\n",
       "std         1.732045       1.730417       3.473445      44.749921\n",
       "min        -8.760004      -7.084020     -11.970335       0.000000\n",
       "25%        -1.162288      -1.174820       0.130359      59.450441\n",
       "50%         0.009424      -0.009482       2.484236      94.925613\n",
       "75%         1.158535       1.163678       4.858794     130.595027\n",
       "max         7.238262       7.844801      16.739402     190.029838"
      ]
     },
     "execution_count": 12,
     "metadata": {},
     "output_type": "execute_result"
    }
   ],
   "source": [
    "geodata2.describe()"
   ]
  },
  {
   "cell_type": "code",
   "execution_count": 13,
   "id": "8ea9d9fb",
   "metadata": {},
   "outputs": [
    {
     "data": {
      "image/png": "[encoded data removed]",
      "text/plain": [
       "<Figure size 1200x400 with 1 Axes>"
      ]
     },
     "metadata": {},
     "output_type": "display_data"
    }
   ],
   "source": [
    "plt.figure(figsize=(12,4))\n",
    "plt.hist(geodata0['product'], bins=50, alpha=0.6, label='Região 0', color='royalblue')\n",
    "plt.hist(geodata1['product'], bins=50, alpha=0.6, label='Região 1', color='orange')\n",
    "plt.hist(geodata2['product'], bins=50, alpha=0.6, label='Região 2', color='green')\n",
    "plt.title('Distribuição do Volume de Reservas por Região')\n",
    "plt.xlabel('Milhares de barris')\n",
    "plt.ylabel('Frequência (poços)')\n",
    "plt.legend()\n",
    "plt.show()\n",
    "\n"
   ]
  },
  {
   "cell_type": "code",
   "execution_count": 14,
   "id": "997c876f",
   "metadata": {},
   "outputs": [
    {
     "data": {
      "image/png": "[encoded data removed]",
      "text/plain": [
       "<Figure size 1800x500 with 4 Axes>"
      ]
     },
     "metadata": {},
     "output_type": "display_data"
    }
   ],
   "source": [
    "corr_0 = geodata0[['f0', 'f1', 'f2', 'product']].corr()\n",
    "corr_1 = geodata1[['f0', 'f1', 'f2', 'product']].corr()\n",
    "corr_2 = geodata2[['f0', 'f1', 'f2', 'product']].corr()\n",
    "\n",
    "fig, axes = plt.subplots(1, 3, figsize=(18, 5))\n",
    "sns.heatmap(corr_0, annot=True, cmap='coolwarm', fmt='.2f', square=True, cbar=False, ax=axes[0])\n",
    "axes[0].set_title('Matriz de Correlação - Região 0')\n",
    "sns.heatmap(corr_1, annot=True, cmap='coolwarm', fmt='.2f', square=True, cbar=False, ax=axes[1])\n",
    "axes[1].set_title('Matriz de Correlação - Região 1')\n",
    "sns.heatmap(corr_2, annot=True, cmap='coolwarm', fmt='.2f', square=True, cbar=True, ax=axes[2])\n",
    "axes[2].set_title('Matriz de Correlação - Região 2')\n",
    "\n",
    "plt.tight_layout()\n",
    "plt.show()\n",
    "\n"
   ]
  },
  {
   "cell_type": "markdown",
   "id": "5adcf1f2",
   "metadata": {},
   "source": [
    "Embora a matriz de correlação seja uma ferramenta bastante utilizada na análise exploratória, neste caso não foi possível identificar relações lineares relevantes entre as variáveis f0, f1 e f2 e a coluna product, que é o alvo deste projeto. Portanto, a análise de \n",
    "correlação não trouxe grandes informações para orientar a modelagem preditiva nesta etapa."
   ]
  },
  {
   "cell_type": "markdown",
   "id": "5aa49997",
   "metadata": {},
   "source": [
    "## 3.Preparação de Dados"
   ]
  },
  {
   "cell_type": "code",
   "execution_count": 15,
   "id": "94f12d3e",
   "metadata": {},
   "outputs": [],
   "source": [
    "X0, y0 = geodata0.drop(['id', 'product'], axis=1), geodata0['product']\n",
    "X1, y1 = geodata1.drop(['id', 'product'], axis=1), geodata1['product']\n",
    "X2, y2 = geodata2.drop(['id', 'product'], axis=1), geodata2['product']\n"
   ]
  },
  {
   "cell_type": "code",
   "execution_count": 16,
   "id": "6b4d5503",
   "metadata": {},
   "outputs": [],
   "source": [
    "# Região 0\n",
    "X0_train, X0_valid, y0_train, y0_valid = train_test_split(X0, y0, test_size=0.25, random_state=42)\n",
    "# Região 1\n",
    "X1_train, X1_valid, y1_train, y1_valid = train_test_split(X1, y1, test_size=0.25, random_state=42)\n",
    "# Região 2\n",
    "X2_train, X2_valid, y2_train, y2_valid = train_test_split(X2, y2, test_size=0.25, random_state=42)\n"
   ]
  },
  {
   "cell_type": "markdown",
   "id": "a8f2e114",
   "metadata": {},
   "source": [
    "Padronização dos dados"
   ]
  },
  {
   "cell_type": "code",
   "execution_count": 17,
   "id": "35d2c4a3",
   "metadata": {},
   "outputs": [],
   "source": [
    "# Região 0\n",
    "scaler0 = StandardScaler()\n",
    "X0_train_scaled = scaler0.fit_transform(X0_train)\n",
    "X0_valid_scaled = scaler0.transform(X0_valid)\n",
    "\n",
    "# Região 1\n",
    "scaler1 = StandardScaler()\n",
    "X1_train_scaled = scaler1.fit_transform(X1_train)\n",
    "X1_valid_scaled = scaler1.transform(X1_valid)\n",
    "\n",
    "# Região 2\n",
    "scaler2 = StandardScaler()\n",
    "X2_train_scaled = scaler2.fit_transform(X2_train)\n",
    "X2_valid_scaled = scaler2.transform(X2_valid)\n"
   ]
  },
  {
   "cell_type": "markdown",
   "id": "63192b6d",
   "metadata": {},
   "source": [
    "## 4.Modelagem Preditiva"
   ]
  },
  {
   "cell_type": "markdown",
   "id": "6b8ed077",
   "metadata": {},
   "source": [
    "### Função para aplicação do modelo de treinamento."
   ]
  },
  {
   "cell_type": "code",
   "execution_count": 18,
   "id": "e927bdfe",
   "metadata": {},
   "outputs": [],
   "source": [
    "def treinar_e_avaliar (X_train_scaled, X_valid_scaled, y_train, y_valid, n):\n",
    "    model = LinearRegression()\n",
    "    model.fit(X_train_scaled, y_train)\n",
    "    y_pred = model.predict(X_valid_scaled)\n",
    "    mse = mean_squared_error (y_valid, y_pred)\n",
    "    rmse = np.sqrt(mse)\n",
    "    media_predita = np.mean(y_pred)\n",
    "    \n",
    "    print ( f'RMSE (Região {n}): {rmse:.2f}')\n",
    "    print ( f'Volume médio previsto (Região {n}): {media_predita:.2f}')\n",
    "    \n",
    "    return mse, rmse, media_predita, model"
   ]
  },
  {
   "cell_type": "code",
   "execution_count": 19,
   "id": "45ed50aa",
   "metadata": {},
   "outputs": [
    {
     "name": "stdout",
     "output_type": "stream",
     "text": [
      "RMSE (Região 0): 37.76\n",
      "Volume médio previsto (Região 0): 92.40\n",
      "RMSE (Região 1): 0.89\n",
      "Volume médio previsto (Região 1): 68.71\n",
      "RMSE (Região 2): 40.15\n",
      "Volume médio previsto (Região 2): 94.77\n"
     ]
    }
   ],
   "source": [
    "mse0, rmse0, media0, model0 = treinar_e_avaliar(X0_train_scaled, X0_valid_scaled, y0_train, y0_valid, n=0)\n",
    "mse1, rmse1, media1, model1 = treinar_e_avaliar(X1_train_scaled, X1_valid_scaled, y1_train, y1_valid, n=1)\n",
    "mse2, rmse2, media2, model2 = treinar_e_avaliar(X2_train_scaled, X2_valid_scaled, y2_train, y2_valid, n=2)\n"
   ]
  },
  {
   "cell_type": "markdown",
   "id": "b58f7d8b",
   "metadata": {},
   "source": [
    "## 5.Avaliação dos Modelos\n",
    "\n",
    "Após o treinamento dos modelos de regressão linear para cada região, avaliamos o desempenho utilizando o RMSE (Root Mean Squared Error) e o volume médio previsto no conjunto de validação. Os resultados estão resumidos na tabela abaixo:\n",
    "\n",
    "| Região    | RMSE                | Volume Médio Previsto |\n",
    "|-----------|---------------------|----------------------|\n",
    "| Região 0  | 37,76               | 92,40                |\n",
    "| Região 1  | 0,89                | 68,71                |\n",
    "| Região 2  | 40,15               | 94,77                |\n",
    "\n",
    "Observa-se que o modelo da **Região 1** apresentou um RMSE significativamente menor, indicando alta precisão nas previsões para essa área. Já as Regiões 0 e 2 apresentaram erros mais elevados, sugerindo maior dificuldade do modelo em capturar os padrões dos dados nessas regiões.\n",
    "\n",
    "Essa análise quantitativa é essencial para fundamentar a seleção dos poços mais promissores e o cálculo do lucro potencial nas próximas etapas do projeto.\n"
   ]
  },
  {
   "cell_type": "markdown",
   "id": "8bfcc079",
   "metadata": {},
   "source": [
    "## 6.Cálculo de Lucro e Seleção dos Melhores Poços"
   ]
  },
  {
   "cell_type": "code",
   "execution_count": 20,
   "id": "468e6d63",
   "metadata": {},
   "outputs": [
    {
     "name": "stdout",
     "output_type": "stream",
     "text": [
      "Quantidade mínima de unidades necessárias para evitar prejuízos: 22222.22\n"
     ]
    }
   ],
   "source": [
    "budged = 100_000_000\n",
    "pocos = 200\n",
    "receita_barril = 4_500\n",
    "min_units_needed = budged / receita_barril\n",
    "\n",
    "print(f'Quantidade mínima de unidades necessárias para evitar prejuízos: {min_units_needed:.2f}')"
   ]
  },
  {
   "cell_type": "code",
   "execution_count": 21,
   "id": "218240b5",
   "metadata": {},
   "outputs": [],
   "source": [
    "# Região 0\n",
    "X0_scaled = scaler0.transform(X0)  # X0 contém as features de todos os poços da região 0\n",
    "geodata0['predicted'] = model0.predict(X0_scaled)\n",
    "top200_0 = geodata0.nlargest(200, 'predicted')\n",
    "\n",
    "# Região 1\n",
    "X1_scaled = scaler1.transform(X1)\n",
    "geodata1['predicted'] = model1.predict(X1_scaled)\n",
    "top200_1 = geodata1.nlargest(200, 'predicted')\n",
    "\n",
    "# Região 2\n",
    "X2_scaled = scaler2.transform(X2)\n",
    "geodata2['predicted'] = model2.predict(X2_scaled)\n",
    "top200_2 = geodata2.nlargest(200, 'predicted')\n",
    "\n"
   ]
  },
  {
   "cell_type": "code",
   "execution_count": 22,
   "id": "7f8ec8dc",
   "metadata": {},
   "outputs": [
    {
     "name": "stdout",
     "output_type": "stream",
     "text": [
      "Lucro potencial (Região 0): $47,012,558.58\n"
     ]
    }
   ],
   "source": [
    "# Região 0\n",
    "receita_0 = top200_0['predicted'].sum() * 4500\n",
    "custo_0 = 100_000_000\n",
    "lucro_0 = receita_0 - custo_0\n",
    "print(f'Lucro potencial (Região 0): ${lucro_0:,.2f}')\n"
   ]
  },
  {
   "cell_type": "code",
   "execution_count": 23,
   "id": "05c26af5",
   "metadata": {},
   "outputs": [],
   "source": [
    "def calcular_lucro_top200(X, df, model, scaler, nome_regiao, custo_total=100_000_000, receita_unidade=4500):\n",
    "    # Padroniza as features\n",
    "    X_scaled = scaler.transform(X)\n",
    "    # Gera as previsões e adiciona ao DataFrame original\n",
    "    df['predicted'] = model.predict(X_scaled)\n",
    "    # Seleciona os 200 melhores poços\n",
    "    top200 = df.nlargest(200, 'predicted')\n",
    "    # Calcula receita e lucro\n",
    "    receita = top200['predicted'].sum() * receita_unidade\n",
    "    lucro = receita - custo_total\n",
    "\n",
    "    print(f'Lucro potencial ({nome_regiao}): ${lucro:,.2f}')\n",
    "    print(f'Receita total ({nome_regiao}): ${receita:,.2f}')\n",
    "    print(f'Volume total previsto ({nome_regiao}): {top200['predicted'].sum():,.2f} mil barris')\n",
    "\n",
    "    return top200, receita, lucro\n",
    "\n"
   ]
  },
  {
   "cell_type": "code",
   "execution_count": 24,
   "id": "dc7a57c6",
   "metadata": {},
   "outputs": [
    {
     "name": "stdout",
     "output_type": "stream",
     "text": [
      "Lucro potencial (Região 0): $47,012,558.58\n",
      "Receita total (Região 0): $147,012,558.58\n",
      "Volume total previsto (Região 0): 32,669.46 mil barris\n",
      "Lucro potencial (Região 1): $25,244,984.22\n",
      "Receita total (Região 1): $125,244,984.22\n",
      "Volume total previsto (Região 1): 27,832.22 mil barris\n",
      "Lucro potencial (Região 2): $40,933,458.04\n",
      "Receita total (Região 2): $140,933,458.04\n",
      "Volume total previsto (Região 2): 31,318.55 mil barris\n"
     ]
    }
   ],
   "source": [
    "top200_0, receita_0, lucro_0 = calcular_lucro_top200(X0, geodata0, model0, scaler0, 'Região 0')\n",
    "top200_1, receita_1, lucro_1 = calcular_lucro_top200(X1, geodata1, model1, scaler1, 'Região 1')\n",
    "top200_2, receita_2, lucro_2 = calcular_lucro_top200(X2, geodata2, model2, scaler2, 'Região 2')\n"
   ]
  },
  {
   "cell_type": "markdown",
   "id": "6d53f596",
   "metadata": {},
   "source": [
    "Após a seleção dos 200 poços mais promissores em cada região, apresentamos abaixo o resumo dos principais resultados financeiros previstos, considerando as regras do projeto (receita de \\$4.500 por mil barris e custo fixo de \\$100 milhões para o desenvolvimento dos poços):\n",
    "\n",
    "| Região    | Volume Total Previsto<br>(mil barris) | Receita Total (\\$)      | Lucro Potencial (\\$)    |\n",
    "|-----------|---------------------------------------|-------------------------|-------------------------|\n",
    "| Região 0  | 32.669,46                             | 147.012.558,58          | 47.012.558,58           |\n",
    "| Região 1  | 27.832,22                             | 125.244.984,22          | 25.244.984,22           |\n",
    "| Região 2  | 31.318,55                             | 140.933.458,04          | 40.933.458,04           |\n",
    "\n",
    "Diferente do que foi apresentado na avaliação do modelo, a região mais lucrativa é a **Região 0**. Isso acontece porque, enquanto a avaliação do modelo considera o desempenho médio das previsões, o cálculo do lucro potencial foca apenas nos 200 poços mais produtivos. Assim, uma região pode se destacar em lucro mesmo sem ter o melhor desempenho médio geral.\n"
   ]
  },
  {
   "cell_type": "markdown",
   "id": "5f84b976",
   "metadata": {},
   "source": [
    "## 7.Análise de Risco com Bootstrapping"
   ]
  },
  {
   "cell_type": "markdown",
   "id": "0eb73079",
   "metadata": {},
   "source": [
    "Função do Bootstrapping"
   ]
  },
  {
   "cell_type": "code",
   "execution_count": 25,
   "id": "8a0dcdc2",
   "metadata": {},
   "outputs": [],
   "source": [
    "def bootstrap_risco_lucro(df, receita_barril, custo_por_poco, n_simulacoes=1000, n_pocos=200, n_total=500, nome_regiao=\"Região\"):\n",
    "    import numpy as np\n",
    "\n",
    "    def calculate_profit(sampled_df):\n",
    "        best_well = sampled_df.sort_values(by=\"predicted\", ascending=False)['product'].head(n_pocos)\n",
    "        volume_well = best_well.sum()\n",
    "        potential_profit = (volume_well * receita_barril) - (custo_por_poco * n_pocos)\n",
    "        return potential_profit\n",
    "\n",
    "    lucros_bootstrap = []\n",
    "    for i in range(n_simulacoes):\n",
    "        sampled_data = df.sample(n=n_total, replace=True, random_state=i)\n",
    "        lucros_bootstrap.append(calculate_profit(sampled_data))\n",
    "\n",
    "    lucros_bootstrap = np.array(lucros_bootstrap)\n",
    "    prejuizo_count = np.sum(np.round(lucros_bootstrap, 2) <= 0)\n",
    "    risco_prejuizo = prejuizo_count / n_simulacoes\n",
    "    intervalo_confianca = np.percentile(lucros_bootstrap, [2.5, 97.5])\n",
    "    lucro_medio = np.mean(lucros_bootstrap)\n",
    "\n",
    "    print(f\"\\n{nome_regiao} - Lucro médio: ${lucro_medio:,.2f}\")\n",
    "    print(f\"{nome_regiao} - Intervalo de confiança 95%: ${intervalo_confianca[0]:,.2f} a ${intervalo_confianca[1]:,.2f}\")\n",
    "    print(f\"{nome_regiao} - Probabilidade de prejuízo: {risco_prejuizo*100:.2f}%\")\n",
    "\n",
    "    return lucro_medio, intervalo_confianca, risco_prejuizo\n"
   ]
  },
  {
   "cell_type": "code",
   "execution_count": 26,
   "id": "adfd2528",
   "metadata": {},
   "outputs": [
    {
     "name": "stdout",
     "output_type": "stream",
     "text": [
      "\n",
      "Região 0 - Lucro médio: $4,331,084.40\n",
      "Região 0 - Intervalo de confiança 95%: $-652,942.65 a $9,724,072.82\n",
      "Região 0 - Probabilidade de prejuízo: 3.60%\n",
      "\n",
      "Região 1 - Lucro médio: $4,365,546.01\n",
      "Região 1 - Intervalo de confiança 95%: $417,167.78 a $8,215,891.71\n",
      "Região 1 - Probabilidade de prejuízo: 1.80%\n",
      "\n",
      "Região 2 - Lucro médio: $3,692,290.85\n",
      "Região 2 - Intervalo de confiança 95%: $-1,360,008.05 a $8,492,361.99\n",
      "Região 2 - Probabilidade de prejuízo: 8.20%\n"
     ]
    }
   ],
   "source": [
    "receita_barril = 4500           \n",
    "budged = 100_000_000           \n",
    "pocos = 200 \n",
    "\n",
    "lucro_medio_0, intervalo_0, risco_0 = bootstrap_risco_lucro(\n",
    "    geodata0, receita_barril, budged/pocos, nome_regiao=\"Região 0\"\n",
    ")\n",
    "lucro_medio_1, intervalo_1, risco_1 = bootstrap_risco_lucro(\n",
    "    geodata1, receita_barril, budged/pocos, nome_regiao=\"Região 1\"\n",
    ")\n",
    "lucro_medio_2, intervalo_2, risco_2 = bootstrap_risco_lucro(\n",
    "    geodata2, receita_barril, budged/pocos, nome_regiao=\"Região 2\"\n",
    ")\n",
    "\n"
   ]
  },
  {
   "cell_type": "markdown",
   "id": "bc3a445a",
   "metadata": {},
   "source": [
    "A Região 1  é a única que atende ao critério de risco do projeto, com risco de apenas 1,80%.\n",
    "\n",
    "Os intervalos de confiança mostram que há incerteza significativa nos lucros, mas apenas a Região 1 garante que, em 95% das simulações, o lucro será positivo."
   ]
  },
  {
   "cell_type": "markdown",
   "id": "e25d49fc",
   "metadata": {},
   "source": [
    "## 8.Conclusão\n",
    "\n",
    "De acordo com a análise de risco realizada via bootstrapping:\n",
    "\n",
    "- **Apenas a Região 1 é elegível para investimento**, pois apresenta risco de prejuízo inferior ao limite de 2,5% estabelecido pelo projeto (1,8%) e também o maior lucro médio entre as regiões que atendem ao critério.\n",
    "- As demais regiões devem ser descartadas, já que o risco de prejuízo supera o limite permitido.\n",
    "\n",
    "Esses resultados orientam a decisão estratégica, priorizando segurança financeira e retorno esperado conforme as regras do projeto.\n"
   ]
  }
 ],
 "metadata": {
  "kernelspec": {
   "display_name": ".venv",
   "language": "python",
   "name": "python3"
  },
  "language_info": {
   "codemirror_mode": {
    "name": "ipython",
    "version": 3
   },
   "file_extension": ".py",
   "mimetype": "text/x-python",
   "name": "python",
   "nbconvert_exporter": "python",
   "pygments_lexer": "ipython3",
   "version": "3.13.0"
  }
 },
 "nbformat": 4,
 "nbformat_minor": 5
}
